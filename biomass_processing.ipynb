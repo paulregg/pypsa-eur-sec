{
 "cells": [
  {
   "cell_type": "code",
   "execution_count": 2,
   "id": "b3b688e9-ed37-4c38-9039-ee2239c10adc",
   "metadata": {},
   "outputs": [],
   "source": [
    "import pandas as pd\n",
    "import glob\n"
   ]
  },
  {
   "cell_type": "code",
   "execution_count": 9,
   "id": "23d46ed1-5bd5-4793-a028-72e302ffec41",
   "metadata": {},
   "outputs": [],
   "source": [
    "biomass = {}\n",
    "for path in glob.glob(\"resources/biomass_potentials_s_37_*.csv\"):\n",
    "    biomass[path.split('.')[0].split('_')[-1]] = pd.read_csv(path)\n",
    "biomass.keys()"
   ]
  },
  {
   "cell_type": "code",
   "execution_count": 14,
   "id": "e14f7e0f-7186-484b-b5dc-b36e6d9e12bc",
   "metadata": {},
   "outputs": [],
   "source": [
    "biomass_totals = pd.DataFrame(columns = biomass['2020'].columns[1:])\n",
    "\n",
    "for year in biomass.keys():\n",
    "    biomass_totals.loc[year] = biomass[year].sum()"
   ]
  },
  {
   "cell_type": "code",
   "execution_count": 22,
   "id": "332094d0-aca3-4cfe-bf8b-d4000f808105",
   "metadata": {},
   "outputs": [
    {
     "data": {
      "text/html": [
       "<div>\n",
       "<style scoped>\n",
       "    .dataframe tbody tr th:only-of-type {\n",
       "        vertical-align: middle;\n",
       "    }\n",
       "\n",
       "    .dataframe tbody tr th {\n",
       "        vertical-align: top;\n",
       "    }\n",
       "\n",
       "    .dataframe thead th {\n",
       "        text-align: right;\n",
       "    }\n",
       "</style>\n",
       "<table border=\"1\" class=\"dataframe\">\n",
       "  <thead>\n",
       "    <tr style=\"text-align: right;\">\n",
       "      <th></th>\n",
       "      <th>biogas</th>\n",
       "      <th>not included</th>\n",
       "      <th>solid biomass</th>\n",
       "    </tr>\n",
       "  </thead>\n",
       "  <tbody>\n",
       "    <tr>\n",
       "      <th>2020</th>\n",
       "      <td>1.0</td>\n",
       "      <td>1.0</td>\n",
       "      <td>1.0</td>\n",
       "    </tr>\n",
       "    <tr>\n",
       "      <th>2030</th>\n",
       "      <td>1.008794</td>\n",
       "      <td>1.148193</td>\n",
       "      <td>0.84523</td>\n",
       "    </tr>\n",
       "    <tr>\n",
       "      <th>2040</th>\n",
       "      <td>1.020041</td>\n",
       "      <td>1.175227</td>\n",
       "      <td>0.831471</td>\n",
       "    </tr>\n",
       "    <tr>\n",
       "      <th>2050</th>\n",
       "      <td>1.031018</td>\n",
       "      <td>1.211317</td>\n",
       "      <td>0.826577</td>\n",
       "    </tr>\n",
       "  </tbody>\n",
       "</table>\n",
       "</div>"
      ],
      "text/plain": [
       "        biogas not included solid biomass\n",
       "2020       1.0          1.0           1.0\n",
       "2030  1.008794     1.148193       0.84523\n",
       "2040  1.020041     1.175227      0.831471\n",
       "2050  1.031018     1.211317      0.826577"
      ]
     },
     "execution_count": 22,
     "metadata": {},
     "output_type": "execute_result"
    }
   ],
   "source": [
    "biomass_totals.sort_index(inplace=True)\n",
    "biomass_totals.divide(biomass_totals.loc['2020'],axis=1)"
   ]
  },
  {
   "cell_type": "code",
   "execution_count": 26,
   "id": "be05be06-f01a-4a1e-9281-6b02984066d6",
   "metadata": {},
   "outputs": [
    {
     "data": {
      "text/html": [
       "<div>\n",
       "<style scoped>\n",
       "    .dataframe tbody tr th:only-of-type {\n",
       "        vertical-align: middle;\n",
       "    }\n",
       "\n",
       "    .dataframe tbody tr th {\n",
       "        vertical-align: top;\n",
       "    }\n",
       "\n",
       "    .dataframe thead th {\n",
       "        text-align: right;\n",
       "    }\n",
       "</style>\n",
       "<table border=\"1\" class=\"dataframe\">\n",
       "  <thead>\n",
       "    <tr style=\"text-align: right;\">\n",
       "      <th></th>\n",
       "      <th>biogas</th>\n",
       "      <th>not included</th>\n",
       "      <th>solid biomass</th>\n",
       "    </tr>\n",
       "  </thead>\n",
       "  <tbody>\n",
       "    <tr>\n",
       "      <th>2020</th>\n",
       "      <td>333.407106</td>\n",
       "      <td>1446.436147</td>\n",
       "      <td>1227.589273</td>\n",
       "    </tr>\n",
       "    <tr>\n",
       "      <th>2030</th>\n",
       "      <td>336.339194</td>\n",
       "      <td>1660.787557</td>\n",
       "      <td>1037.595191</td>\n",
       "    </tr>\n",
       "    <tr>\n",
       "      <th>2040</th>\n",
       "      <td>340.088885</td>\n",
       "      <td>1699.890442</td>\n",
       "      <td>1020.704955</td>\n",
       "    </tr>\n",
       "    <tr>\n",
       "      <th>2050</th>\n",
       "      <td>343.748728</td>\n",
       "      <td>1752.092584</td>\n",
       "      <td>1014.697389</td>\n",
       "    </tr>\n",
       "  </tbody>\n",
       "</table>\n",
       "</div>"
      ],
      "text/plain": [
       "          biogas not included solid biomass\n",
       "2020  333.407106  1446.436147   1227.589273\n",
       "2030  336.339194  1660.787557   1037.595191\n",
       "2040  340.088885  1699.890442   1020.704955\n",
       "2050  343.748728  1752.092584   1014.697389"
      ]
     },
     "execution_count": 26,
     "metadata": {},
     "output_type": "execute_result"
    }
   ],
   "source": [
    "# in TWh\n",
    "biomass_totals/1e6"
   ]
  }
 ],
 "metadata": {
  "kernelspec": {
   "display_name": "Python 3 (ipykernel)",
   "language": "python",
   "name": "python3"
  },
  "language_info": {
   "codemirror_mode": {
    "name": "ipython",
    "version": 3
   },
   "file_extension": ".py",
   "mimetype": "text/x-python",
   "name": "python",
   "nbconvert_exporter": "python",
   "pygments_lexer": "ipython3",
   "version": "3.9.13"
  }
 },
 "nbformat": 4,
 "nbformat_minor": 5
}
