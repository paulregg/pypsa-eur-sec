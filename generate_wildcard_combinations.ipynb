{
 "cells": [
  {
   "cell_type": "code",
   "execution_count": 35,
   "id": "52219832-65a9-4135-8cf7-af2d2f796a39",
   "metadata": {},
   "outputs": [],
   "source": [
    "import pypsa\n",
    "import numpy as np\n",
    "import pandas as pd\n",
    "import glob\n",
    "import yaml\n",
    "import matplotlib.pyplot as plt\n",
    "\n",
    "pd.set_option('display.max_columns', None)"
   ]
  },
  {
   "cell_type": "code",
   "execution_count": 41,
   "id": "f30a84d8-0a89-4360-b6d8-04d82a25a16e",
   "metadata": {},
   "outputs": [],
   "source": [
    "wildcards = {\n",
    "                #\"seq\" : [\"3e8\",\"4e8\",\"5e8\",\"10e8\"],\n",
    "                #\"iceshare\" : [\"0.1\",\"0.2\",\"0.3\",\"0.4\",\"0.5\"],\n",
    "                #\"gas+m\" : [\"2\",\"4\",\"8\"],\n",
    "                #\"DAC+c\" : [\"2\",\"4\",\"8\",\"16\"],\n",
    "                #\"CC+c\" : [\"2\",\"4\",\"8\",\"16\"],\n",
    "                #\"vre_cap\" : [\"0.9\",\"0.8\",\"0.7\",\"0.6\",\"0.5\"],\n",
    "                #\"\" : [\"noH2network\",\"\"]#,\"newbuild\",\"none\"],\n",
    "                'bio' : [\"0.9\",\"0.8\",\"0.7\",\"0.6\"]\n",
    "            }\n",
    "\n",
    "outdir = \"wildcards/biomass.txt\"\n",
    "baserun = \"Co2L0p00-97H-T-H-B-I-A\"\n"
   ]
  },
  {
   "cell_type": "code",
   "execution_count": 42,
   "id": "38b92ece-4561-4aec-971b-dfccc14d0ff4",
   "metadata": {},
   "outputs": [
    {
     "name": "stderr",
     "output_type": "stream",
     "text": [
      "/tmp/ipykernel_14235/3008762100.py:2: FutureWarning:\n",
      "\n",
      "The default dtype for empty Series will be 'object' instead of 'float64' in a future version. Specify a dtype explicitly to silence this warning.\n",
      "\n"
     ]
    },
    {
     "data": {
      "text/plain": [
       "bio    4\n",
       "dtype: int64"
      ]
     },
     "execution_count": 42,
     "metadata": {},
     "output_type": "execute_result"
    }
   ],
   "source": [
    "wclist = []\n",
    "dictlens = pd.Series(index = wildcards.keys())\n",
    "for i in dictlens.index:\n",
    "    dictlens[i] = len(wildcards[i])\n",
    "dictlens = dictlens.astype(int)\n",
    "dictlens"
   ]
  },
  {
   "cell_type": "code",
   "execution_count": 43,
   "id": "3e0e1aa4-e380-46dc-b459-c0235c4b62a3",
   "metadata": {},
   "outputs": [
    {
     "data": {
      "text/plain": [
       "bio    0\n",
       "dtype: int64"
      ]
     },
     "execution_count": 43,
     "metadata": {},
     "output_type": "execute_result"
    }
   ],
   "source": [
    "list_i = pd.Series(np.zeros(len(dictlens)),index = wildcards.keys()).astype(int)\n",
    "list_i"
   ]
  },
  {
   "cell_type": "code",
   "execution_count": null,
   "id": "05710d8f-6002-45e9-a6ca-447c5c56fc69",
   "metadata": {},
   "outputs": [],
   "source": []
  },
  {
   "cell_type": "code",
   "execution_count": 44,
   "id": "b8810ed8-2c9b-4c13-812e-d508e1ad2eae",
   "metadata": {},
   "outputs": [
    {
     "name": "stdout",
     "output_type": "stream",
     "text": [
      "wildcards output successfully\n"
     ]
    }
   ],
   "source": [
    "def update_list_i(list_i,lens):\n",
    "    for i in range(len(list_i)):\n",
    "        list_i[i] = list_i[i]+1\n",
    "        if list_i[i] < lens[i]: break\n",
    "        else:\n",
    "            list_i[i] = 0\n",
    "    return list_i\n",
    "    \n",
    "def wildcard_str(list_i,dictvals):\n",
    "    s = \"\"\n",
    "    for i in range(len(list_i)):\n",
    "        if list(dictvals)[i]==\"vre_cap\":\n",
    "            for vre in [\"solar+p\",\"rooftop+p\",\"onwind+p\",\"offwind+p\"]:#\n",
    "                s = s+\"-\" + vre + dictvals[list(dictvals)[i]][list_i[i]]\n",
    "        elif list(dictvals)[i]==\"bio\":\n",
    "            for bm in [\"biomass+e\",\"biogas+e\"]:#\n",
    "                s = s+\"-\" + bm + dictvals[list(dictvals)[i]][list_i[i]]\n",
    "        else:\n",
    "            s = s+\"-\"+list(dictvals)[i]+dictvals[list(dictvals)[i]][list_i[i]]\n",
    "    return s\n",
    "\n",
    "def format_wildcards(filename,wildcards):\n",
    "    with open(filename, 'w') as f:\n",
    "        for wc in wildcards:\n",
    "            f.write('    - '+wc+'\\n')\n",
    "    print(\"wildcards output successfully\")\n",
    "\n",
    "def get_num_runs(dictlens):\n",
    "    x=1\n",
    "    for i in dictlens:\n",
    "        x=x*i\n",
    "    return x\n",
    "    \n",
    "final_wildcards = []\n",
    "for i in range(get_num_runs(dictlens)):\n",
    "    final_wildcards.append(baserun + wildcard_str(list_i,wildcards))\n",
    "    list_i = update_list_i(list_i,dictlens)\n",
    "\n",
    "format_wildcards(outdir,final_wildcards)"
   ]
  },
  {
   "cell_type": "code",
   "execution_count": 45,
   "id": "a02f61fe-3a77-478a-842b-75abf567c025",
   "metadata": {},
   "outputs": [
    {
     "data": {
      "text/plain": [
       "['Co2L0p00-97H-T-H-B-I-A-biomass+e0.9-biogas+e0.9',\n",
       " 'Co2L0p00-97H-T-H-B-I-A-biomass+e0.8-biogas+e0.8',\n",
       " 'Co2L0p00-97H-T-H-B-I-A-biomass+e0.7-biogas+e0.7',\n",
       " 'Co2L0p00-97H-T-H-B-I-A-biomass+e0.6-biogas+e0.6']"
      ]
     },
     "execution_count": 45,
     "metadata": {},
     "output_type": "execute_result"
    }
   ],
   "source": [
    "final_wildcards"
   ]
  },
  {
   "cell_type": "code",
   "execution_count": null,
   "id": "696a2a62-0cef-41dd-93b1-9a616f41c01b",
   "metadata": {},
   "outputs": [],
   "source": []
  }
 ],
 "metadata": {
  "kernelspec": {
   "display_name": "Python 3 (ipykernel)",
   "language": "python",
   "name": "python3"
  },
  "language_info": {
   "codemirror_mode": {
    "name": "ipython",
    "version": 3
   },
   "file_extension": ".py",
   "mimetype": "text/x-python",
   "name": "python",
   "nbconvert_exporter": "python",
   "pygments_lexer": "ipython3",
   "version": "3.9.13"
  }
 },
 "nbformat": 4,
 "nbformat_minor": 5
}
